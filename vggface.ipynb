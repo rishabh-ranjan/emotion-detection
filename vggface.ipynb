{
 "cells": [
  {
   "cell_type": "code",
   "execution_count": 12,
   "metadata": {},
   "outputs": [],
   "source": [
    "import os\n",
    "import seaborn as sns\n",
    "import time\n",
    "import torch\n",
    "from torch import nn, optim\n",
    "from torch import tensor\n",
    "from torch.utils.data import DataLoader, Dataset\n",
    "import torch.nn as nn\n",
    "import torch.nn.functional as F\n",
    "import pandas as pd\n",
    "import numpy as np\n",
    "import matplotlib.pyplot as plt\n",
    "from PIL import Image\n",
    "import torchvision.models as models\n",
    "import torchvision.transforms as transforms\n",
    "from sklearn.metrics import r2_score, precision_score, recall_score, f1_score, confusion_matrix, accuracy_score"
   ]
  },
  {
   "cell_type": "code",
   "execution_count": 14,
   "metadata": {},
   "outputs": [],
   "source": [
    "class FaceDataset(Dataset):\n",
    "    def __init__(self, path):\n",
    "        data = torch.tensor(pd.read_csv(path, header=None).values)\n",
    "        y, X = data[:,0], data[:,1:]\n",
    "        y = y.squeeze()\n",
    "        \n",
    "        self.X = X.reshape(-1, 1, 48, 48).float()\n",
    "        self.y = y.long()\n",
    "        self.scaler = nn.Upsample(size=160, mode='bilinear', align_corners=True)\n",
    "        \n",
    "    def __len__(self):\n",
    "        return self.y.shape[0]\n",
    "    \n",
    "    def __getitem__(self, i):\n",
    "        X = self.scaler(self.X[i].unsqueeze(0)).squeeze(0)    \n",
    "        X = torch.cat((X, X, X))\n",
    "        return X, self.y[i]"
   ]
  },
  {
   "cell_type": "code",
   "execution_count": 19,
   "metadata": {},
   "outputs": [],
   "source": [
    "train_data = FaceDataset('train.csv')\n",
    "test_data = FaceDataset('public_test.csv')\n",
    "private_data = FaceDataset('private.csv')"
   ]
  },
  {
   "cell_type": "code",
   "execution_count": 20,
   "metadata": {},
   "outputs": [],
   "source": [
    "from facenet_pytorch import MTCNN, InceptionResnetV1\n",
    "device = torch.device(\"cuda\" if torch.cuda.is_available() else \"cpu\")\n",
    "resnet = InceptionResnetV1(classify=True, pretrained='vggface2', num_classes=7)\n",
    "resnet = resnet.to(device)"
   ]
  },
  {
   "cell_type": "code",
   "execution_count": 29,
   "metadata": {},
   "outputs": [
    {
     "name": "stdout",
     "output_type": "stream",
     "text": [
      "After epoch 1, mini-batch 10, loss: 13.60009878873825\n",
      "After epoch 1, mini-batch 20, loss: 13.271961450576782\n",
      "After epoch 1, mini-batch 30, loss: 14.500711977481842\n",
      "After epoch 1, mini-batch 40, loss: 14.883895754814148\n",
      "After epoch 1, mini-batch 50, loss: 11.96181458234787\n",
      "After epoch 1, mini-batch 60, loss: 12.799401342868805\n",
      "After epoch 1, mini-batch 70, loss: 12.117967009544373\n",
      "After epoch 1, mini-batch 80, loss: 14.22002387046814\n",
      "After epoch 1, mini-batch 90, loss: 14.112419724464417\n",
      "After epoch 1, mini-batch 100, loss: 13.634794473648071\n",
      "After epoch 2, mini-batch 10, loss: 6.945316880941391\n",
      "After epoch 2, mini-batch 20, loss: 6.385809749364853\n",
      "After epoch 2, mini-batch 30, loss: 7.2076307237148285\n",
      "After epoch 2, mini-batch 40, loss: 6.527051091194153\n",
      "After epoch 2, mini-batch 50, loss: 5.65737572312355\n",
      "After epoch 2, mini-batch 60, loss: 6.225296914577484\n",
      "After epoch 2, mini-batch 70, loss: 6.073084592819214\n",
      "After epoch 2, mini-batch 80, loss: 6.837082028388977\n",
      "After epoch 2, mini-batch 90, loss: 7.488226056098938\n",
      "After epoch 2, mini-batch 100, loss: 6.073623865842819\n",
      "After epoch 3, mini-batch 10, loss: 3.559671312570572\n",
      "After epoch 3, mini-batch 20, loss: 3.6045581698417664\n",
      "After epoch 3, mini-batch 30, loss: 3.9562319815158844\n",
      "After epoch 3, mini-batch 40, loss: 4.114492416381836\n",
      "After epoch 3, mini-batch 50, loss: 4.032598823308945\n",
      "After epoch 3, mini-batch 60, loss: 4.300715535879135\n",
      "After epoch 3, mini-batch 70, loss: 3.3823613077402115\n",
      "After epoch 3, mini-batch 80, loss: 3.692256584763527\n",
      "After epoch 3, mini-batch 90, loss: 4.396605357527733\n",
      "After epoch 3, mini-batch 100, loss: 4.229891747236252\n",
      "After epoch 4, mini-batch 10, loss: 2.2372366040945053\n",
      "After epoch 4, mini-batch 20, loss: 2.619765594601631\n",
      "After epoch 4, mini-batch 30, loss: 2.0999295338988304\n",
      "After epoch 4, mini-batch 40, loss: 2.115225836634636\n",
      "After epoch 4, mini-batch 50, loss: 2.213827684521675\n",
      "After epoch 4, mini-batch 60, loss: 2.4130459427833557\n",
      "After epoch 4, mini-batch 70, loss: 2.481285199522972\n",
      "After epoch 4, mini-batch 80, loss: 2.170580357313156\n",
      "After epoch 4, mini-batch 90, loss: 2.4427566453814507\n",
      "After epoch 4, mini-batch 100, loss: 2.256429374217987\n",
      "After epoch 5, mini-batch 10, loss: 1.3186493441462517\n",
      "After epoch 5, mini-batch 20, loss: 1.2533544823527336\n",
      "After epoch 5, mini-batch 30, loss: 1.2206857427954674\n",
      "After epoch 5, mini-batch 40, loss: 1.3641032353043556\n",
      "After epoch 5, mini-batch 50, loss: 1.4407421499490738\n",
      "After epoch 5, mini-batch 60, loss: 1.5850632190704346\n",
      "After epoch 5, mini-batch 70, loss: 1.361492544412613\n",
      "After epoch 5, mini-batch 80, loss: 1.5221395790576935\n",
      "After epoch 5, mini-batch 90, loss: 1.2896200455725193\n",
      "After epoch 5, mini-batch 100, loss: 1.0205260999500751\n",
      "After epoch 6, mini-batch 10, loss: 0.7539114393293858\n",
      "After epoch 6, mini-batch 20, loss: 0.6360035520046949\n",
      "After epoch 6, mini-batch 30, loss: 0.7329982817173004\n",
      "After epoch 6, mini-batch 40, loss: 0.8450201712548733\n",
      "After epoch 6, mini-batch 50, loss: 0.9112518690526485\n",
      "After epoch 6, mini-batch 60, loss: 0.8183864690363407\n",
      "After epoch 6, mini-batch 70, loss: 1.0589220076799393\n",
      "After epoch 6, mini-batch 80, loss: 0.7449348643422127\n",
      "After epoch 6, mini-batch 90, loss: 0.7028161585330963\n",
      "After epoch 6, mini-batch 100, loss: 0.6990054436028004\n",
      "After epoch 7, mini-batch 10, loss: 0.4190195966511965\n",
      "After epoch 7, mini-batch 20, loss: 0.535066444426775\n",
      "After epoch 7, mini-batch 30, loss: 0.564891992136836\n",
      "After epoch 7, mini-batch 40, loss: 0.5874664466828108\n",
      "After epoch 7, mini-batch 50, loss: 0.4366458095610142\n",
      "After epoch 7, mini-batch 60, loss: 0.5057665817439556\n",
      "After epoch 7, mini-batch 70, loss: 0.7518717907369137\n",
      "After epoch 7, mini-batch 80, loss: 0.47221552580595016\n",
      "After epoch 7, mini-batch 90, loss: 0.445414274930954\n",
      "After epoch 7, mini-batch 100, loss: 0.5501486286520958\n",
      "After epoch 8, mini-batch 10, loss: 0.3865732420235872\n",
      "After epoch 8, mini-batch 20, loss: 0.3171508088707924\n",
      "After epoch 8, mini-batch 30, loss: 0.3454396817833185\n",
      "After epoch 8, mini-batch 40, loss: 0.42788167856633663\n",
      "After epoch 8, mini-batch 50, loss: 0.3442241381853819\n",
      "After epoch 8, mini-batch 60, loss: 0.3460218980908394\n",
      "After epoch 8, mini-batch 70, loss: 0.33312173280864954\n",
      "After epoch 8, mini-batch 80, loss: 0.46147875767201185\n",
      "After epoch 8, mini-batch 90, loss: 0.3428937830030918\n",
      "After epoch 8, mini-batch 100, loss: 0.47812687791883945\n",
      "After epoch 9, mini-batch 10, loss: 0.19546292163431644\n",
      "After epoch 9, mini-batch 20, loss: 0.2908960524946451\n",
      "After epoch 9, mini-batch 30, loss: 0.27138609532266855\n",
      "After epoch 9, mini-batch 40, loss: 0.24297399818897247\n",
      "After epoch 9, mini-batch 50, loss: 0.3355159442871809\n",
      "After epoch 9, mini-batch 60, loss: 0.21166214626282454\n",
      "After epoch 9, mini-batch 70, loss: 0.3023604145273566\n",
      "After epoch 9, mini-batch 80, loss: 0.24099237471818924\n",
      "After epoch 9, mini-batch 90, loss: 0.3644485305994749\n",
      "After epoch 9, mini-batch 100, loss: 0.25932563189417124\n",
      "After epoch 10, mini-batch 10, loss: 0.23895278479903936\n",
      "After epoch 10, mini-batch 20, loss: 0.20760824624449015\n",
      "After epoch 10, mini-batch 30, loss: 0.1737407515756786\n",
      "After epoch 10, mini-batch 40, loss: 0.23163241986185312\n",
      "After epoch 10, mini-batch 50, loss: 0.2695908918976784\n",
      "After epoch 10, mini-batch 60, loss: 0.18702065479010344\n",
      "After epoch 10, mini-batch 70, loss: 0.16780101135373116\n",
      "After epoch 10, mini-batch 80, loss: 0.1836070828139782\n",
      "After epoch 10, mini-batch 90, loss: 0.2086967397481203\n",
      "After epoch 10, mini-batch 100, loss: 0.13555521797388792\n"
     ]
    }
   ],
   "source": [
    "freq = np.bincount(train_data.y)\n",
    "inv_freq = train_data.y.shape[0] / freq\n",
    "inv_freq = 7 * inv_freq / inv_freq.sum()\n",
    "\n",
    "\n",
    "loss_function = nn.CrossEntropyLoss(weight=torch.tensor(inv_freq).float().cuda())\n",
    "\n",
    "optimizer = optim.Adam(resnet.parameters(), lr=1e-5)\n",
    "total_loss = 0\n",
    "loader = torch.utils.data.DataLoader(train_data, 64, shuffle=True, num_workers=8)\n",
    "\n",
    "for epoch in range(10):\n",
    "    for i, data in enumerate(loader, 0):\n",
    "        images, classes = data\n",
    "        images, classes = images.to(device).float(), classes.to(device).long()\n",
    "        #images, classes = images.float(), classes.long()\n",
    "        output = resnet(images)\n",
    "        \n",
    "        loss = loss_function(output, classes)\n",
    "        loss.backward()\n",
    "        optimizer.step()\n",
    "        optimizer.zero_grad()\n",
    "        \n",
    "        \n",
    "        total_loss += loss.item() \n",
    "        \n",
    "        if i % 10 == 9:\n",
    "            print(\"After epoch {}, mini-batch {}, loss: {}\".format(epoch + 1, i + 1, total_loss))\n",
    "            total_loss = 0\n",
    "            \n",
    "    correct = 0\n",
    "    total = 0\n",
    "    total_loss = 0"
   ]
  },
  {
   "cell_type": "code",
   "execution_count": 30,
   "metadata": {},
   "outputs": [
    {
     "name": "stdout",
     "output_type": "stream",
     "text": [
      "0\n",
      "10\n",
      "[[   0 2696  268 2581 4736 3272 2177 3427]\n",
      " [   0    0    0    0    0    0    0    0]\n",
      " [   0    0    0    0    0    0    0    0]\n",
      " [   0    0    0    0    0    0    0    0]\n",
      " [   0    0    0    0    0    0    0    0]\n",
      " [   0    0    0    0    0    0    0    0]\n",
      " [   0    0    0    0    0    0    0    0]\n",
      " [   0    0    0    0    0    0    0    0]]\n",
      "0.0\n",
      "0.0\n"
     ]
    }
   ],
   "source": [
    "\n",
    "with torch.no_grad():\n",
    "    actual, prediction = [], []\n",
    "    test_loader = torch.utils.data.DataLoader(private_data, 1000, shuffle=False, num_workers=8)\n",
    "\n",
    "    for i, data in enumerate(test_loader):\n",
    "        images, features = data\n",
    "        images, features = images.to(device).float(), features.to(device).float()\n",
    "\n",
    "        output = resnet(images)\n",
    "        #output = model(activations)\n",
    "        output = torch.argmax(output, dim=1)\n",
    "        #if not result:\n",
    "        #    result = output.cpu()\n",
    "        #else:\n",
    "        #result = torch.cat((result, output.cpu()))\n",
    "        actual.extend(features.cpu().tolist())\n",
    "        prediction.extend(output.cpu().tolist())\n",
    "        if i % 10 == 0:\n",
    "            print(i)\n",
    "    \n",
    "    print(confusion_matrix(actual, prediction))\n",
    "    print(accuracy_score(actual, prediction))\n",
    "    print(f1_score(actual, prediction, average='macro'))"
   ]
  },
  {
   "cell_type": "code",
   "execution_count": 24,
   "metadata": {},
   "outputs": [
    {
     "name": "stdout",
     "output_type": "stream",
     "text": [
      "0\n",
      "[[ 502   17  100   36  115   26   96]\n",
      " [  18   52    7    2   16    1    2]\n",
      " [ 115   15  406   35  175  101   72]\n",
      " [  38    2   37 1386   41   34   84]\n",
      " [ 103    6  168   51  595   17  157]\n",
      " [  18    2   62   43   21  547   24]\n",
      " [  75    2   69   80  176   27  685]]\n",
      "0.6460752438457965\n",
      "0.6152528320291809\n"
     ]
    }
   ],
   "source": [
    "with torch.no_grad():\n",
    "    actual, prediction = [], []\n",
    "    test_loader = torch.utils.data.DataLoader(test_data, 1000, shuffle=False, num_workers=8)\n",
    "\n",
    "    for i, data in enumerate(test_loader):\n",
    "        images, features = data\n",
    "        images, features = images.to(device).float(), features.to(device).float()\n",
    "\n",
    "        output = resnet(images)\n",
    "        #output = model(activations)\n",
    "        output = torch.argmax(output, dim=1)\n",
    "        #if not result:\n",
    "        #    result = output.cpu()\n",
    "        #else:\n",
    "        #result = torch.cat((result, output.cpu()))\n",
    "        actual.extend(features.cpu().tolist())\n",
    "        prediction.extend(output.cpu().tolist())\n",
    "        if i % 10 == 0:\n",
    "            print(i)\n",
    "    \n",
    "    print(confusion_matrix(actual, prediction))\n",
    "    print(accuracy_score(actual, prediction))\n",
    "    print(f1_score(actual, prediction, average='macro'))"
   ]
  },
  {
   "cell_type": "code",
   "execution_count": 31,
   "metadata": {},
   "outputs": [],
   "source": [
    "output_csv = open('output_csv', 'w')\n",
    "output_csv.write(\"Id,Prediction\\n\")\n",
    "for i, elem in enumerate(prediction):\n",
    "    output_csv.write('{},{}\\n'.format(i + 1, elem))\n",
    "output_csv.close()"
   ]
  },
  {
   "cell_type": "code",
   "execution_count": 11,
   "metadata": {},
   "outputs": [
    {
     "name": "stdout",
     "output_type": "stream",
     "text": [
      "19157\n"
     ]
    }
   ],
   "source": [
    "print(len(test_dataset))"
   ]
  },
  {
   "cell_type": "code",
   "execution_count": 94,
   "metadata": {},
   "outputs": [],
   "source": [
    "\n",
    "class MinFaceDataset(Dataset):\n",
    "    def __init__(self, path, over_sample=False):\n",
    "        y, X = np.split(np.genfromtxt(path, delimiter=','), [1], axis=-1)\n",
    "        y = y.squeeze()\n",
    "        if over_sample:\n",
    "            X, y = RandomOverSampler().fit_resample(X, y)\n",
    "        X = X.reshape(-1, 1, 48, 48)\n",
    "        self.X = torch.FloatTensor(X)\n",
    "        self.y = torch.LongTensor(y)\n",
    "    \n",
    "    def __len__(self):\n",
    "        return self.y.shape[0]\n",
    "    \n",
    "    def __getitem__(self, i):\n",
    "        return self.X[i], self.y[i]\n",
    "    \n",
    "train = MinFaceDataset('/home/cse/dual/cs5180404/col774/train.csv')\n",
    "orig = MinFaceDataset('/home/cse/dual/cs5180404/col774/orig_train.csv')\n",
    "pubtest = MinFaceDataset('/home/cse/dual/cs5180404/col774/public_test.csv')\n",
    "pvttest = MinFaceDataset('/home/cse/dual/cs5180404/col774/private.csv')"
   ]
  },
  {
   "cell_type": "code",
   "execution_count": 114,
   "metadata": {},
   "outputs": [
    {
     "name": "stdout",
     "output_type": "stream",
     "text": [
      "torch.Size([48085, 2304])\n",
      "28709 19376 46265\n",
      "torch.Size([25835, 2304])\n",
      "6459 19376 24832\n",
      "torch.Size([35168, 2304])\n",
      "6459 28709 33868\n",
      "torch.Size([38533, 2304])\n",
      "19157 19376 25044\n",
      "torch.Size([47866, 2304])\n",
      "19157 28709 33889\n",
      "torch.Size([25616, 2304])\n",
      "19157 6459 12743\n"
     ]
    }
   ],
   "source": [
    "matrix = np.zeros((4, 4))\n",
    "l = [train, orig, pubtest, pvttest]\n",
    "for i, a in enumerate(l):\n",
    "    for j, b in enumerate(l):\n",
    "        if i > j:\n",
    "            combined = torch.cat((a.X.squeeze(1).view(a.X.shape[0], -1), b.X.squeeze(1).view(b.X.shape[0], -1)))\n",
    "            print(combined.shape)\n",
    "            unique = torch.unique(combined, dim=0)\n",
    "            print(a.X.shape[0], b.X.shape[0], unique.shape[0])\n",
    "            intersection = a.X.shape[0] + b.X.shape[0] - unique.shape[0]\n",
    "            matrix[i][j] = intersection\n",
    "#c = torch.cat((c1.X.reshape((6459, 2304)), c2.X.reshape((19157, 2304))))\n",
    "#print(c.shape)\n",
    "#unique, counts = torch.unique(c2.X.reshape((19157, 2304)), dim=0, return_counts=True)\n",
    "#print(unique.shape, counts)\n",
    "#unique, counts = torch.unique(c1.X.reshape((6459, 2304)), dim=0, return_counts=True)\n",
    "#print(unique.shape, counts)"
   ]
  },
  {
   "cell_type": "code",
   "execution_count": 127,
   "metadata": {},
   "outputs": [
    {
     "name": "stdout",
     "output_type": "stream",
     "text": [
      "torch.Size([19376, 1, 48, 48]) torch.Size([19157, 1, 48, 48])\n",
      "torch.Size([6416, 1, 48, 48])\n",
      "torch.Size([18792, 1, 48, 48])\n",
      "torch.Size([25208, 1, 48, 48])\n",
      "torch.Size([25044, 1, 48, 48])\n"
     ]
    }
   ],
   "source": [
    "print(train.X.shape, pvttest.X.shape)\n",
    "upvttest = torch.unique(pvttest.X, dim=0)\n",
    "utrain = torch.unique(train.X, dim=0)\n",
    "\n",
    "combined = torch.cat((upvttest, utrain), dim=0)\n",
    "print(upvttest.shape)\n",
    "print(utrain.shape)\n",
    "print(combined.shape)\n",
    "print(torch.unique(combined, dim=0).shape)"
   ]
  },
  {
   "cell_type": "code",
   "execution_count": 109,
   "metadata": {},
   "outputs": [
    {
     "name": "stdout",
     "output_type": "stream",
     "text": [
      "torch.Size([2, 2, 3, 4])\n",
      "torch.Size([2, 24])\n"
     ]
    }
   ],
   "source": [
    "a = torch.zeros((2, 2, 3, 4))\n",
    "print(a.shape)\n",
    "print(a.view(2, -1).shape)"
   ]
  },
  {
   "cell_type": "code",
   "execution_count": 111,
   "metadata": {},
   "outputs": [
    {
     "name": "stdout",
     "output_type": "stream",
     "text": [
      "torch.Size([160, 160])\n",
      "torch.Size([160, 160])\n",
      "torch.Size([160, 160])\n",
      "torch.Size([160, 160])\n",
      "torch.Size([160, 160])\n",
      "torch.Size([160, 160])\n",
      "torch.Size([160, 160])\n",
      "torch.Size([160, 160])\n",
      "torch.Size([160, 160])\n",
      "torch.Size([160, 160])\n",
      "torch.Size([160, 160])\n",
      "torch.Size([160, 160])\n",
      "torch.Size([160, 160])\n",
      "torch.Size([160, 160])\n",
      "torch.Size([160, 160])\n",
      "torch.Size([160, 160])\n"
     ]
    },
    {
     "data": {
      "image/png": "[encoded data removed]",
      "text/plain": [
       "<Figure size 864x576 with 32 Axes>"
      ]
     },
     "metadata": {
      "needs_background": "light"
     },
     "output_type": "display_data"
    }
   ],
   "source": [
    "fig, ax = plt.subplots(4, 4, figsize=(12,8))\n",
    "start = 64\n",
    "for i in range(start, start + 16):\n",
    "    print(train_dataset.__getitem__(i)[0].squeeze(0)[0].shape)\n",
    "    sns.heatmap(train_dataset.__getitem__(i)[0].squeeze(0)[0], ax=ax[j//4][j%4])\n",
    "    ax[j//4][j%4].set_title(str(orig_dataset.__getitem__(i)[1].item()))\n",
    "plt.tight_layout()"
   ]
  },
  {
   "cell_type": "code",
   "execution_count": 32,
   "metadata": {},
   "outputs": [],
   "source": []
  },
  {
   "cell_type": "code",
   "execution_count": null,
   "metadata": {},
   "outputs": [],
   "source": []
  }
 ],
 "metadata": {
  "kernelspec": {
   "display_name": "Python 3",
   "language": "python",
   "name": "python3"
  },
  "language_info": {
   "codemirror_mode": {
    "name": "ipython",
    "version": 3
   },
   "file_extension": ".py",
   "mimetype": "text/x-python",
   "name": "python",
   "nbconvert_exporter": "python",
   "pygments_lexer": "ipython3",
   "version": "3.6.10"
  }
 },
 "nbformat": 4,
 "nbformat_minor": 4
}
