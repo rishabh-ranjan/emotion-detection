{
 "cells": [
  {
   "cell_type": "code",
   "execution_count": 175,
   "metadata": {
    "_cell_guid": "b1076dfc-b9ad-4769-8c92-a6c4dae69d19",
    "_uuid": "8f2839f25d086af736a60e9eeb907d3b93b6e0e5"
   },
   "outputs": [],
   "source": [
    "from imblearn.over_sampling import RandomOverSampler\n",
    "import matplotlib.pyplot as plt\n",
    "import numpy as np\n",
    "from sklearn.metrics import accuracy_score, precision_score, recall_score, f1_score, confusion_matrix\n",
    "import torch\n",
    "import torch.nn as nn\n",
    "import torch.nn.functional as F\n",
    "import torch.optim as optim\n",
    "import torch.utils.data as data\n",
    "import tqdm.auto as tqdm"
   ]
  },
  {
   "cell_type": "code",
   "execution_count": 164,
   "metadata": {},
   "outputs": [],
   "source": [
    "class FaceDataset(data.Dataset):\n",
    "    def __init__(self, path, over_sample=False):\n",
    "        y, X = np.split(np.genfromtxt(path, delimiter=','), [1], axis=-1)\n",
    "        y = y.squeeze()\n",
    "        if over_sample:\n",
    "            X, y = RandomOverSampler().fit_resample(X, y)\n",
    "        X = X.reshape(-1, 1, 48, 48)\n",
    "        self.X = torch.FloatTensor(X)\n",
    "        self.y = torch.LongTensor(y)\n",
    "    \n",
    "    def to(self, device):\n",
    "        self.X = self.X.to(device)\n",
    "        self.y = self.y.to(device)\n",
    "        return self\n",
    "    \n",
    "    def __len__(self):\n",
    "        return self.y.shape[0]\n",
    "    \n",
    "    def __getitem__(self, i):\n",
    "        return self.X[i], self.y[i]"
   ]
  },
  {
   "cell_type": "code",
   "execution_count": 251,
   "metadata": {},
   "outputs": [],
   "source": [
    "class Model(nn.Module):\n",
    "    def __init__(self):\n",
    "        super().__init__()\n",
    "        self.model = nn.Sequential(\n",
    "            nn.Conv2d(1, 64, 1, padding=0),\n",
    "            nn.ReLU(),\n",
    "            nn.BatchNorm2d(64),\n",
    "            nn.Dropout(0.25),\n",
    "\n",
    "            nn.Conv2d(64, 128, 3, padding=1),\n",
    "            nn.ReLU(),\n",
    "            nn.BatchNorm2d(128),\n",
    "            nn.Dropout(0.25),\n",
    "\n",
    "            nn.Conv2d(128, 256, 5, padding=2),\n",
    "            nn.ReLU(),\n",
    "            nn.BatchNorm2d(256),\n",
    "            nn.MaxPool2d(2),\n",
    "            nn.Dropout(0.25),\n",
    "\n",
    "            nn.Flatten(),\n",
    "\n",
    "            nn.Linear(24*24*256, 128),\n",
    "            nn.BatchNorm1d(128),\n",
    "            nn.ReLU(),\n",
    "            nn.Dropout(0.25),\n",
    "\n",
    "            nn.Linear(128, 256),\n",
    "            nn.BatchNorm1d(256),\n",
    "            nn.ReLU(),\n",
    "            nn.Dropout(0.25),\n",
    "\n",
    "            nn.Linear(256, 7)\n",
    "        )\n",
    "\n",
    "        self.criterion = nn.CrossEntropyLoss()\n",
    "\n",
    "    def forward(self, X):\n",
    "        return self.model(X)\n",
    "\n",
    "    def predict(self, X):\n",
    "        return torch.argmax(self.forward(X), dim=-1)\n",
    "    \n",
    "    def evaluate(self, X, y):\n",
    "        model.eval()\n",
    "        yhat = self.predict(X)\n",
    "        yhat = yhat.detach().cpu().numpy()\n",
    "        y = y.detach().cpu().numpy()\n",
    "        print(f'acc: {accuracy_score(y, yhat):.5f}', end=' | ')\n",
    "        print(f'p: {precision_score(y, yhat, average=\"micro\"):.5f}', end=' | ')\n",
    "        print(f'r: {recall_score(y, yhat, average=\"micro\"):.5f}', end=' | ')\n",
    "        print(f'f1: {f1_score(y, yhat, average=\"micro\"):.5f}', end=' | ')\n",
    "        print(f'P: {precision_score(y, yhat, average=\"macro\"):.5f}', end=' | ')\n",
    "        print(f'R: {recall_score(y, yhat, average=\"macro\"):.5f}', end=' | ')\n",
    "        print(f'F1: {f1_score(y, yhat, average=\"macro\"):.5f}')\n",
    "#         print(f'accuracy: {accuracy_score(y, yhat):.5f}')\n",
    "#         print(f'precision (micro): {precision_score(y, yhat, average=\"micro\"):.5f}')\n",
    "#         print(f'recall (micro): {recall_score(y, yhat, average=\"micro\"):.5f}')\n",
    "#         print(f'f1 (micro): {f1_score(y, yhat, average=\"micro\"):.5f}')\n",
    "#         print(f'precision (macro): {precision_score(y, yhat, average=\"macro\"):.5f}')\n",
    "#         print(f'recall (macro): {recall_score(y, yhat, average=\"macro\"):.5f}')\n",
    "#         print(f'f1 (macro): {f1_score(y, yhat, average=\"macro\"):.5f}')"
   ]
  },
  {
   "cell_type": "code",
   "execution_count": 267,
   "metadata": {},
   "outputs": [],
   "source": [
    "def train(model, opt, data_loader, n_epochs, test_set=None):\n",
    "    losses = []\n",
    "    for epoch in tqdm.tqdm(range(n_epochs)):\n",
    "        if test_set:\n",
    "            print(f'Epoch {epoch}:-')\n",
    "            model.evaluate(test_set.X, test_set.y)\n",
    "            print()\n",
    "        model.train()\n",
    "        for X, y in data_loader:\n",
    "            yhat = model(X)\n",
    "            loss = model.criterion(yhat, y)\n",
    "            opt.zero_grad()\n",
    "            loss.backward()\n",
    "            nn.utils.clip_grad_norm_(model.parameters(), 1.0)\n",
    "            opt.step()\n",
    "            losses.append(loss.item())\n",
    "    if test_set:\n",
    "        print(f'Epoch {epoch+1}:-')\n",
    "        model.evaluate(test_set.X, test_set.y)\n",
    "    return losses"
   ]
  },
  {
   "cell_type": "code",
   "execution_count": 268,
   "metadata": {},
   "outputs": [
    {
     "name": "stdout",
     "output_type": "stream",
     "text": [
      "device: cuda\n"
     ]
    }
   ],
   "source": [
    "device = torch.device('cuda') if torch.cuda.is_available() else torch.device('cpu')\n",
    "print('device:', device)"
   ]
  },
  {
   "cell_type": "code",
   "execution_count": 269,
   "metadata": {},
   "outputs": [],
   "source": [
    "#train_set = FaceDataset('train.csv', over_sample=True).to(device)"
   ]
  },
  {
   "cell_type": "code",
   "execution_count": 270,
   "metadata": {},
   "outputs": [],
   "source": [
    "#test_set = FaceDataset('public_test.csv').to(device)"
   ]
  },
  {
   "cell_type": "code",
   "execution_count": 275,
   "metadata": {},
   "outputs": [],
   "source": [
    "model = Model().to(device)"
   ]
  },
  {
   "cell_type": "code",
   "execution_count": 281,
   "metadata": {},
   "outputs": [],
   "source": [
    "opt = optim.Adam(model.parameters(), lr=1e-3)\n",
    "data_loader = data.DataLoader(train_set, batch_size=128, shuffle=True)"
   ]
  },
  {
   "cell_type": "code",
   "execution_count": 282,
   "metadata": {},
   "outputs": [
    {
     "data": {
      "application/vnd.jupyter.widget-view+json": {
       "model_id": "2a2c8b628b3d4c32b9e1d586442d7471",
       "version_major": 2,
       "version_minor": 0
      },
      "text/plain": [
       "HBox(children=(HTML(value=''), FloatProgress(value=0.0, max=4.0), HTML(value='')))"
      ]
     },
     "metadata": {},
     "output_type": "display_data"
    },
    {
     "name": "stdout",
     "output_type": "stream",
     "text": [
      "Epoch 0:-\n",
      "acc: 0.53000 | p: 0.53000 | r: 0.53000 | f1: 0.53000 | P: 0.45196 | R: 0.41667 | F1: 0.42021\n",
      "\n",
      "Epoch 1:-\n",
      "acc: 0.56000 | p: 0.56000 | r: 0.56000 | f1: 0.56000 | P: 0.45693 | R: 0.44910 | F1: 0.44734\n",
      "\n",
      "Epoch 2:-\n",
      "acc: 0.56000 | p: 0.56000 | r: 0.56000 | f1: 0.56000 | P: 0.48331 | R: 0.44600 | F1: 0.44658\n",
      "\n",
      "Epoch 3:-\n",
      "acc: 0.58000 | p: 0.58000 | r: 0.58000 | f1: 0.58000 | P: 0.49030 | R: 0.46099 | F1: 0.45742\n",
      "\n",
      "\n",
      "Epoch 4:-\n",
      "acc: 0.57000 | p: 0.57000 | r: 0.57000 | f1: 0.57000 | P: 0.47245 | R: 0.45617 | F1: 0.44701\n"
     ]
    }
   ],
   "source": [
    "train_losses = train(model, opt, data_loader, 4, test_set)"
   ]
  },
  {
   "cell_type": "code",
   "execution_count": 283,
   "metadata": {},
   "outputs": [
    {
     "data": {
      "image/png": "[encoded data removed]",
      "text/plain": [
       "<Figure size 432x288 with 1 Axes>"
      ]
     },
     "metadata": {
      "needs_background": "light"
     },
     "output_type": "display_data"
    }
   ],
   "source": [
    "plt.plot(train_losses)\n",
    "plt.show()"
   ]
  },
  {
   "cell_type": "code",
   "execution_count": 284,
   "metadata": {},
   "outputs": [
    {
     "name": "stdout",
     "output_type": "stream",
     "text": [
      "acc: 0.57000 | p: 0.57000 | r: 0.57000 | f1: 0.57000 | P: 0.47245 | R: 0.45617 | F1: 0.44701\n"
     ]
    }
   ],
   "source": [
    "model.evaluate(test_set.X, test_set.y)"
   ]
  },
  {
   "cell_type": "code",
   "execution_count": null,
   "metadata": {},
   "outputs": [],
   "source": []
  }
 ],
 "metadata": {
  "kernelspec": {
   "display_name": "Python 3",
   "language": "python",
   "name": "python3"
  },
  "language_info": {
   "codemirror_mode": {
    "name": "ipython",
    "version": 3
   },
   "file_extension": ".py",
   "mimetype": "text/x-python",
   "name": "python",
   "nbconvert_exporter": "python",
   "pygments_lexer": "ipython3",
   "version": "3.6.12"
  }
 },
 "nbformat": 4,
 "nbformat_minor": 4
}
